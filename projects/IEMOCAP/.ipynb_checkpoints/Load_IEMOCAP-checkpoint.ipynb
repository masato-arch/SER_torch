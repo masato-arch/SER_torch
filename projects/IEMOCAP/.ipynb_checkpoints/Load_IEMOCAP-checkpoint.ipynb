{
 "cells": [
  {
   "cell_type": "markdown",
   "id": "7207eace",
   "metadata": {},
   "source": [
    "# IEMOCAPをロードする\n",
    "\n",
    "- IEMOCAPのロードをするプログラム\n",
    "- 要求: 2個上の階層にIEMOCAP_full_releaseを配置する\n",
    "- return: wavファイルとラベルのペア"
   ]
  },
  {
   "cell_type": "code",
   "execution_count": null,
   "id": "7ce47ec9",
   "metadata": {},
   "outputs": [],
   "source": [
    "import os\n",
    "import re\n",
    "from statistics import mode\n",
    "import collections\n",
    "import librosa\n",
    "import math"
   ]
  },
  {
   "cell_type": "markdown",
   "id": "1445c6d7",
   "metadata": {},
   "source": [
    "## 前準備"
   ]
  },
  {
   "cell_type": "markdown",
   "id": "a3ef29a7",
   "metadata": {},
   "source": [
    "#### パスの定義"
   ]
  },
  {
   "cell_type": "code",
   "execution_count": null,
   "id": "15d541cc",
   "metadata": {},
   "outputs": [],
   "source": [
    "# 上位パスを排除してファイル名だけ見せる関数\n",
    "def display_filename(filename, path_splitter='/'):\n",
    "    return filename[filename.rfind(path_splitter) + 1:]"
   ]
  },
  {
   "cell_type": "code",
   "execution_count": null,
   "id": "8399950b",
   "metadata": {},
   "outputs": [],
   "source": [
    "# wavファイルがセッションごとに整理されてるディレクトリへのパス\n",
    "session_dirs = ['../../IEMOCAP_full_release/' + 'Session' + str(i) + '/' + 'sentences/wav/' for i in range(1, 6)]\n",
    "# ラベルがセッションごとに整理されてるディレクトリへのパス\n",
    "label_dirs = ['../../IEMOCAP_full_release/' + 'Session' + str(i) + '/dialog/EmoEvaluation/Categorical/' for i in range(1, 6)]"
   ]
  },
  {
   "cell_type": "markdown",
   "id": "73a37743",
   "metadata": {},
   "source": [
    "#### 1つ1つのwavファイルへのパスを取る"
   ]
  },
  {
   "cell_type": "code",
   "execution_count": null,
   "id": "7dd4b640",
   "metadata": {},
   "outputs": [],
   "source": [
    "# 変数定義，ペアレントディレクトリへのパスを取っておく\n",
    "wav_file_paths = []\n",
    "wav_file_paths_p = []\n",
    "for ses_d in session_dirs:\n",
    "    sentence_dirs = sorted(os.listdir(ses_d))\n",
    "    for sent_d in sentence_dirs:\n",
    "        wav_file_paths.append(os.path.join(ses_d, sent_d))\n",
    "        wav_file_paths_p.append(os.path.join(ses_d, sent_d))"
   ]
  },
  {
   "cell_type": "code",
   "execution_count": null,
   "id": "cfe7ec2c",
   "metadata": {},
   "outputs": [],
   "source": [
    "# 不要な.DS_Storeとかいうのが出てきたので削除\n",
    "for path in wav_file_paths:\n",
    "    if 'DS_Store' in path:\n",
    "        wav_file_paths.remove(path)\n",
    "        wav_file_paths_p.remove(path)"
   ]
  },
  {
   "cell_type": "code",
   "execution_count": null,
   "id": "3649184e",
   "metadata": {},
   "outputs": [],
   "source": [
    "# 1つ1つのwavファイルへのパスを取る\n",
    "wav_file_paths_ = []\n",
    "for path in wav_file_paths:\n",
    "    filenames = sorted(os.listdir(path))\n",
    "    for f in filenames:\n",
    "        wav_file_paths_.append(os.path.join(path, f))"
   ]
  },
  {
   "cell_type": "code",
   "execution_count": null,
   "id": "43904a62",
   "metadata": {},
   "outputs": [],
   "source": [
    "wav_file_paths_"
   ]
  },
  {
   "cell_type": "code",
   "execution_count": null,
   "id": "c26cf8b4",
   "metadata": {},
   "outputs": [],
   "source": [
    "# 定義した変数にpathをコピーして完成\n",
    "wav_file_paths = wav_file_paths_.copy()"
   ]
  },
  {
   "cell_type": "code",
   "execution_count": null,
   "id": "15ad7ef1",
   "metadata": {},
   "outputs": [],
   "source": [
    "# wav以外の拡張子のファイルが含まれてたら削除\n",
    "for path in wav_file_paths:\n",
    "    base, ext = os.path.splitext(path)\n",
    "    if not ext == '.wav':\n",
    "        wav_file_paths.remove(path)"
   ]
  },
  {
   "cell_type": "markdown",
   "id": "b3e66eb8",
   "metadata": {},
   "source": [
    "## [ファイルのパス, ラベル]のペアを作る\n",
    "\n",
    "音声ファイルそれぞれにつき，3~4個のラベル付けがされている．各ファイルについて全てのラベル付けを参照し，多数決でラベルを決定する．"
   ]
  },
  {
   "cell_type": "markdown",
   "id": "6c28b7f5",
   "metadata": {},
   "source": [
    "#### 前準備"
   ]
  },
  {
   "cell_type": "code",
   "execution_count": null,
   "id": "04eee9d5",
   "metadata": {},
   "outputs": [],
   "source": [
    "# ラベル付ファイル1つ1つへのpathをとる\n",
    "label_file_paths = []\n",
    "for label_dir in label_dirs:\n",
    "    label_files_ = sorted(os.listdir(label_dir))\n",
    "    for f in label_files_:\n",
    "        base, ext = os.path.splitext(f)\n",
    "        if ext == '.txt':\n",
    "            label_file_paths.append(os.path.join(label_dir, f))"
   ]
  },
  {
   "cell_type": "code",
   "execution_count": null,
   "id": "fe3daa9f",
   "metadata": {},
   "outputs": [],
   "source": [
    "# 全てのラベルファイルを参照し，1つ1つのwavにラベルをつける\n",
    "# 1つ1つの発話ののラベルはスピーチダイアログごとにtxtファイルを作って管理されている\n",
    "# スピーチダイアログの名前とwavのペアレントディレクトリの名前は一致する\n",
    "\n",
    "# 上位パスを排除して名前だけのwav_file_path_pを作る\n",
    "wav_file_paths_pp = []\n",
    "\n",
    "for path in wav_file_paths_p:\n",
    "    wav_file_paths_pp.append(path[path.rfind('/') + 1: ])"
   ]
  },
  {
   "cell_type": "code",
   "execution_count": null,
   "id": "4b37f0ef",
   "metadata": {},
   "outputs": [],
   "source": [
    "wav_file_paths_pp"
   ]
  },
  {
   "cell_type": "code",
   "execution_count": null,
   "id": "5bdf0a3b",
   "metadata": {},
   "outputs": [],
   "source": [
    "# list内のkeyを含む要素を全て返す関数\n",
    "def index_multi(lst, key):\n",
    "    idxes = []\n",
    "    for i in range(len(lst)):\n",
    "        # print(f'examining {lst[i]} for key:{key}')\n",
    "        if key in lst[i]:\n",
    "            idxes.append(i)\n",
    "    return idxes"
   ]
  },
  {
   "cell_type": "code",
   "execution_count": null,
   "id": "f0101f6b",
   "metadata": {},
   "outputs": [],
   "source": [
    "# スピーチダイアログごとに評価ファイルを分けていく\n",
    "# 1つのダイアログに複数の評価者がいる\n",
    "\n",
    "label_file_indexes = []\n",
    "for dirname in wav_file_paths_pp:\n",
    "    idxes = index_multi(label_file_paths, dirname)\n",
    "    label_file_indexes.append(idxes)"
   ]
  },
  {
   "cell_type": "markdown",
   "id": "1569131b",
   "metadata": {},
   "source": [
    "#### メインの処理\n",
    "\n",
    "発話1つ1つに対する複数の評価者のラベル付を参照して，多数決を取ってその発話のラベルを決める．[ファイル名，ラベル]のペアにする．"
   ]
  },
  {
   "cell_type": "code",
   "execution_count": null,
   "id": "8fa318bc",
   "metadata": {},
   "outputs": [],
   "source": [
    "# 各音声ファイルごとにラベルを作っていく\n",
    "# 同じダイアログに対する複数の評価者のラベル付を同時に読み込んで多数決を行う\n",
    "labels = []\n",
    "for i, indexes in enumerate(label_file_indexes):\n",
    "    # ここで1ダイアログの処理\n",
    "    # それぞれの評価ファイルのラベルを保存しておくグローバルリスト\n",
    "    global_labels = []\n",
    "    \n",
    "    # それぞれの評価ファイルのラベルを読み込んでglobal_labelsに保存する\n",
    "    for index in indexes: \n",
    "        # ここで1ファイルの処理\n",
    "        file = open(label_file_paths[index], 'r')\n",
    "        local_labels = []\n",
    "        print(f'#{display_filename(wav_file_paths_pp[i])}: opening {display_filename(label_file_paths[index])}')\n",
    "        for line in file:\n",
    "            label = re.split('[:;()]', line)\n",
    "            label = label[:-1]\n",
    "            local_labels.append(label)\n",
    "        global_labels.append(local_labels)\n",
    "        \n",
    "    # global_labelsの中身から多数決でそのファイルに対するラベルを決定する\n",
    "    for file_id in range(len(global_labels[0])):\n",
    "        file_label = mode([global_labels[i][file_id][1] for i in range(len(global_labels))])\n",
    "        labels.append([global_labels[0][file_id][0][:-1], file_label])\n",
    "        "
   ]
  },
  {
   "cell_type": "code",
   "execution_count": null,
   "id": "cfea92d0",
   "metadata": {},
   "outputs": [],
   "source": [
    "labels"
   ]
  },
  {
   "cell_type": "markdown",
   "id": "37b39bdd",
   "metadata": {},
   "source": [
    "#### 後処理"
   ]
  },
  {
   "cell_type": "code",
   "execution_count": null,
   "id": "338a58c3",
   "metadata": {},
   "outputs": [],
   "source": [
    "# ファイル名を絶対パスに置換する\n",
    "labels_ = [[wav_file_paths[i], labels[i][1]] for i in range(len(labels))]"
   ]
  },
  {
   "cell_type": "code",
   "execution_count": null,
   "id": "4c2587af",
   "metadata": {},
   "outputs": [],
   "source": [
    "# Neutral state をNeutralに表記変え\n",
    "for label in labels_:\n",
    "    if label[1] == 'Neutral state':\n",
    "        label[1] = label[1].replace('Neutral state', 'Neutral')"
   ]
  },
  {
   "cell_type": "markdown",
   "id": "cd529e06",
   "metadata": {},
   "source": [
    "#### 必要な感情ラベルだけ取ってくる\n",
    "\n",
    "今回はNeutral, Anger, Sadness, Happinessの4つだけ使うのでそのように選ぶ．"
   ]
  },
  {
   "cell_type": "code",
   "execution_count": null,
   "id": "3d891782",
   "metadata": {},
   "outputs": [],
   "source": [
    "data_selected = [label for label in labels_ if label[1] == 'Neutral' or label[1] == 'Anger' or label[1] == 'Sadness' or label[1] == 'Happiness']"
   ]
  },
  {
   "cell_type": "markdown",
   "id": "76a640d3",
   "metadata": {},
   "source": [
    "## [wav, ラベル]のペアにする"
   ]
  },
  {
   "cell_type": "code",
   "execution_count": null,
   "id": "d2adca2c",
   "metadata": {},
   "outputs": [],
   "source": [
    "ret = []\n",
    "for data in data_selected:\n",
    "    x, fs = librosa.load(data[0], sr=16000)\n",
    "    label = data[1]\n",
    "    ret.append([x, label, fs])"
   ]
  },
  {
   "cell_type": "code",
   "execution_count": null,
   "id": "2997bb56",
   "metadata": {},
   "outputs": [],
   "source": [
    "for r in ret:\n",
    "    print(len(r[0]))"
   ]
  }
 ],
 "metadata": {
  "kernelspec": {
   "display_name": "Python 3 (ipykernel)",
   "language": "python",
   "name": "python3"
  },
  "language_info": {
   "codemirror_mode": {
    "name": "ipython",
    "version": 3
   },
   "file_extension": ".py",
   "mimetype": "text/x-python",
   "name": "python",
   "nbconvert_exporter": "python",
   "pygments_lexer": "ipython3",
   "version": "3.9.7"
  }
 },
 "nbformat": 4,
 "nbformat_minor": 5
}
