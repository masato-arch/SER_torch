{
 "cells": [
  {
   "cell_type": "markdown",
   "id": "5116b1f4",
   "metadata": {},
   "source": [
    "# Emo-DBをロードする\n",
    "\n",
    "- Emo-DBをロードするプログラム\n",
    "- 要求: 2個上の階層にdownload(Emo-DBが管理されてるディレクトリ)\n",
    "- return: Emo-DBのwavとラベル(話者や感情の情報込み)のセット"
   ]
  },
  {
   "cell_type": "code",
   "execution_count": null,
   "id": "e36cb0b9",
   "metadata": {},
   "outputs": [],
   "source": [
    "import numpy as np\n",
    "import librosa\n",
    "import librosa.display\n",
    "import audeer\n",
    "import wave\n",
    "import os\n",
    "import matplotlib.pyplot as plt\n",
    "import audformat\n",
    "import soundfile as sf\n",
    "import audiofile as af\n",
    "%matplotlib inline"
   ]
  },
  {
   "cell_type": "markdown",
   "id": "c1e18e0e",
   "metadata": {},
   "source": [
    "## 前準備"
   ]
  },
  {
   "cell_type": "code",
   "execution_count": null,
   "id": "b2a30c9b",
   "metadata": {},
   "outputs": [],
   "source": [
    "#音声ファイルをロードするメソッド\n",
    "def load_wave_data(audio_dir, file_name):\n",
    "    file_path = os.path.join(audio_dir, file_name)\n",
    "    x, fs = librosa.load(file_path, sr=16000)\n",
    "    return x, fs"
   ]
  },
  {
   "cell_type": "code",
   "execution_count": null,
   "id": "e5dfe4db",
   "metadata": {},
   "outputs": [],
   "source": [
    "#ファイル名から特定の情報を返すメソッド\n",
    "def parse_names(names, from_i, to_i, is_number=False, mapping=None):\n",
    "    for name in names:\n",
    "        key = name[from_i:to_i]\n",
    "        if is_number:\n",
    "            key = int(key)\n",
    "        yield mapping[key] if mapping else key"
   ]
  },
  {
   "cell_type": "code",
   "execution_count": null,
   "id": "7512cf1d",
   "metadata": {},
   "outputs": [],
   "source": [
    "# wavがあるディレクトリへのpath\n",
    "Emo_DB_dir = '../../download/wav/'"
   ]
  },
  {
   "cell_type": "code",
   "execution_count": null,
   "id": "7efbe731",
   "metadata": {},
   "outputs": [],
   "source": [
    "# wavファイル1つ1つへのpath\n",
    "files = sorted([os.path.join(Emo_DB_dir, f) for f in os.listdir(Emo_DB_dir)])"
   ]
  },
  {
   "cell_type": "code",
   "execution_count": null,
   "id": "cea16e0a",
   "metadata": {},
   "outputs": [],
   "source": [
    "# 拡張子と絶対パスを除いたファイル名\n",
    "names = [audeer.basename_wo_ext(f) for f in files]"
   ]
  },
  {
   "cell_type": "code",
   "execution_count": null,
   "id": "9062aa18",
   "metadata": {},
   "outputs": [],
   "source": [
    "male = audformat.define.Gender.MALE\n",
    "female = audformat.define.Gender.FEMALE\n",
    "language = audformat.utils.map_language('de')"
   ]
  },
  {
   "cell_type": "code",
   "execution_count": null,
   "id": "d850968a",
   "metadata": {},
   "outputs": [],
   "source": [
    "# ファイル名と話者の間のディクショナリ\n",
    "speaker_mapping = {\n",
    "    3: {'gender': male, 'age': 31, 'language': language},\n",
    "    8: {'gender': female, 'age': 34, 'language': language},\n",
    "    9: {'gender': female, 'age': 21, 'language': language},\n",
    "    10: {'gender': male, 'age': 32, 'language': language},\n",
    "    11: {'gender': male, 'age': 26, 'language': language},\n",
    "    12: {'gender': male, 'age': 30, 'language': language},\n",
    "    13: {'gender': female, 'age': 32, 'language': language},\n",
    "    14: {'gender': female, 'age': 35, 'language': language},\n",
    "    15: {'gender': male, 'age': 25, 'language': language},\n",
    "    16: {'gender': female, 'age': 31, 'language': language},\n",
    "}"
   ]
  },
  {
   "cell_type": "code",
   "execution_count": null,
   "id": "5304aefd",
   "metadata": {},
   "outputs": [],
   "source": [
    "# ファイル名と感情ラベルの間のディクショナリ\n",
    "emotion_mapping = {\n",
    "    'W': 'Anger',\n",
    "    'L': 'Boredom',\n",
    "    'E': 'Disgust',\n",
    "    'A': 'Fear',\n",
    "    'F': 'Happiness',\n",
    "    'T': 'Sadness',\n",
    "    'N': 'Neutral',\n",
    "}"
   ]
  },
  {
   "cell_type": "code",
   "execution_count": null,
   "id": "9c6f0bdd",
   "metadata": {},
   "outputs": [],
   "source": [
    "# ファイルごとの話者\n",
    "speakers = list(parse_names(names, from_i=0, to_i=2, is_number=True))"
   ]
  },
  {
   "cell_type": "code",
   "execution_count": null,
   "id": "681cd8f4",
   "metadata": {},
   "outputs": [],
   "source": [
    "# ファイルごとの感情ラベル\n",
    "emotions = list(parse_names(names, from_i=5, to_i=6, mapping=emotion_mapping))"
   ]
  },
  {
   "cell_type": "code",
   "execution_count": null,
   "id": "18d47f77",
   "metadata": {},
   "outputs": [],
   "source": [
    "dataset = []\n",
    "for file, speaker, emotion in zip(files, speakers, emotions):\n",
    "    x, fs = librosa.load(file, sr=16000)\n",
    "    dataset.append([x, emotion, speaker])"
   ]
  }
 ],
 "metadata": {
  "kernelspec": {
   "display_name": "Python 3 (ipykernel)",
   "language": "python",
   "name": "python3"
  },
  "language_info": {
   "codemirror_mode": {
    "name": "ipython",
    "version": 3
   },
   "file_extension": ".py",
   "mimetype": "text/x-python",
   "name": "python",
   "nbconvert_exporter": "python",
   "pygments_lexer": "ipython3",
   "version": "3.9.7"
  }
 },
 "nbformat": 4,
 "nbformat_minor": 5
}
