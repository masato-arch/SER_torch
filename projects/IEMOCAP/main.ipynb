{
 "cells": [
  {
   "cell_type": "code",
   "execution_count": null,
   "id": "b9e706a0",
   "metadata": {},
   "outputs": [],
   "source": [
    "import Load_IEMOCAP\n",
    "import Load_EmoDB\n",
    "import sys\n",
    "sys.path.append('../../lib/')\n",
    "import mymodels\n",
    "import NN_learning_tools\n",
    "from torch.utils.data import Dataset, DataLoader\n",
    "import numpy as np\n",
    "import collections\n",
    "import psutil"
   ]
  },
  {
   "cell_type": "code",
   "execution_count": null,
   "id": "6fdadae0",
   "metadata": {},
   "outputs": [],
   "source": [
    "# データセットをロードする\n",
    "iemocap = Load_IEMOCAP.create_dataset()\n",
    "emodb = Load_EmoDB.create_dataset()"
   ]
  },
  {
   "cell_type": "code",
   "execution_count": null,
   "id": "07e2bfc7",
   "metadata": {},
   "outputs": [],
   "source": [
    "def zero_pad(x, pad_len):\n",
    "    ret = np.zeros(pad_len)\n",
    "    ret[:len(x)] = x\n",
    "    return ret"
   ]
  },
  {
   "cell_type": "code",
   "execution_count": null,
   "id": "7c9f731c",
   "metadata": {},
   "outputs": [],
   "source": [
    "iemocap_data = iemocap.datas.copy()\n",
    "emodb_data = emodb.datas.copy()"
   ]
  },
  {
   "cell_type": "code",
   "execution_count": null,
   "id": "93adbc76",
   "metadata": {},
   "outputs": [],
   "source": [
    "iemocap_data = [data[0] for data in iemocap_data]\n",
    "emodb_data = [data[0] for data in emodb_data]"
   ]
  },
  {
   "cell_type": "code",
   "execution_count": null,
   "id": "228a9a96",
   "metadata": {},
   "outputs": [],
   "source": [
    "def zero_pad_(datas, std_len=50000):\n",
    "    ret = []\n",
    "    for data in datas:\n",
    "        n_segments = np.ceil(len(data) / std_len)\n",
    "        pad_len = int(std_len * n_segments)\n",
    "        zero_padded = zero_pad(data, pad_len)\n",
    "        ret.append(zero_padded)\n",
    "    \n",
    "    return ret"
   ]
  },
  {
   "cell_type": "code",
   "execution_count": null,
   "id": "ed4ad615",
   "metadata": {
    "scrolled": true
   },
   "outputs": [],
   "source": [
    "iemocap_data = zero_pad_(iemocap_data)\n",
    "emodb_data = zero_pad_(emodb_data)"
   ]
  },
  {
   "cell_type": "code",
   "execution_count": null,
   "id": "b50b8db0",
   "metadata": {},
   "outputs": [],
   "source": [
    "def segment_data(data, std_len=50000):\n",
    "    if len(data) % std_len != 0:\n",
    "        raise Exception(f'invalid data length: {len(data)}')\n",
    "    ret = []\n",
    "    n_segments = len(data) // std_len\n",
    "    for i in range(n_segments):\n",
    "        ret.append(data[i * std_len : (i + 1) * std_len])\n",
    "    \n",
    "    return ret"
   ]
  },
  {
   "cell_type": "code",
   "execution_count": null,
   "id": "705286ee",
   "metadata": {},
   "outputs": [],
   "source": [
    "iemocap_data = [segment_data(data) for data in iemocap_data]"
   ]
  },
  {
   "cell_type": "code",
   "execution_count": null,
   "id": "e277e8cf",
   "metadata": {},
   "outputs": [],
   "source": [
    "emodb_data = [segment_data(data) for data in emodb_data]"
   ]
  },
  {
   "cell_type": "code",
   "execution_count": null,
   "id": "b6b69407",
   "metadata": {},
   "outputs": [],
   "source": [
    "iemocap_datalen = [len(data) for data in iemocap_data]\n",
    "emodb_datalen = [len(data) for data in emodb_data]"
   ]
  },
  {
   "cell_type": "code",
   "execution_count": null,
   "id": "2bfb0c28",
   "metadata": {},
   "outputs": [],
   "source": [
    "#wavファイルからメルペクトログラムを生成するメソッド\n",
    "def calculate_melsp(x, n_fft=1024, hop_length=128):\n",
    "    stft = np.abs(librosa.stft(x, n_fft=n_fft, hop_length=hop_length))**2\n",
    "    log_stft = librosa.power_to_db(stft)\n",
    "    melsp = librosa.feature.melspectrogram(S=log_stft,n_mels=128)\n",
    "    return melsp"
   ]
  },
  {
   "cell_type": "code",
   "execution_count": null,
   "id": "ce2c211e",
   "metadata": {},
   "outputs": [],
   "source": []
  }
 ],
 "metadata": {
  "kernelspec": {
   "display_name": "Python 3 (ipykernel)",
   "language": "python",
   "name": "python3"
  },
  "language_info": {
   "codemirror_mode": {
    "name": "ipython",
    "version": 3
   },
   "file_extension": ".py",
   "mimetype": "text/x-python",
   "name": "python",
   "nbconvert_exporter": "python",
   "pygments_lexer": "ipython3",
   "version": "3.9.7"
  }
 },
 "nbformat": 4,
 "nbformat_minor": 5
}
